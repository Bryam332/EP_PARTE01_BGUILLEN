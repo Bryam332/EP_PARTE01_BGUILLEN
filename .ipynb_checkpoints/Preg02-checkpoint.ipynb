{
 "cells": [
  {
   "cell_type": "code",
   "execution_count": 3,
   "id": "938dda7e",
   "metadata": {},
   "outputs": [
    {
     "name": "stdout",
     "output_type": "stream",
     "text": [
      "Ingrese el primer número: 50\n",
      "Ingrese el segundo número: 25\n",
      "Ingrese el tercer número: 50\n",
      "Los números ordenados de menor a mayor son: 25 50 50\n"
     ]
    }
   ],
   "source": [
    "num1 = int(input(\"Ingrese el primer número: \"))\n",
    "num2 = int(input(\"Ingrese el segundo número: \"))\n",
    "num3 = int(input(\"Ingrese el tercer número: \"))\n",
    "\n",
    "# Comparar los números utilizando la función max() y min()\n",
    "mayor = max(num1, num2, num3)\n",
    "menor = min(num1, num2, num3)\n",
    "medio = (num1 + num2 + num3) - mayor - menor\n",
    "\n",
    "print(\"Los números ordenados de menor a mayor son:\", menor, medio, mayor)"
   ]
  },
  {
   "cell_type": "code",
   "execution_count": null,
   "id": "0d5e039a",
   "metadata": {},
   "outputs": [],
   "source": []
  }
 ],
 "metadata": {
  "kernelspec": {
   "display_name": "Python 3 (ipykernel)",
   "language": "python",
   "name": "python3"
  },
  "language_info": {
   "codemirror_mode": {
    "name": "ipython",
    "version": 3
   },
   "file_extension": ".py",
   "mimetype": "text/x-python",
   "name": "python",
   "nbconvert_exporter": "python",
   "pygments_lexer": "ipython3",
   "version": "3.9.12"
  }
 },
 "nbformat": 4,
 "nbformat_minor": 5
}
