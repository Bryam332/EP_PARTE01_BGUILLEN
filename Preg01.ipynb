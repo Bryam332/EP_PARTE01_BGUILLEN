{
 "cells": [
  {
   "cell_type": "code",
   "execution_count": 2,
   "id": "22427ccf",
   "metadata": {},
   "outputs": [
    {
     "name": "stdout",
     "output_type": "stream",
     "text": [
      "Importe a pagar:\n",
      "14\n"
     ]
    }
   ],
   "source": [
    "horas = 8\n",
    "if horas > 4:\n",
    "    extra = 2 * (horas - 4)\n",
    "    costototal = 6 + extra\n",
    "else:\n",
    "    costototal = 6\n",
    "print(\"Importe a pagar:\")\n",
    "print(costototal)"
   ]
  },
  {
   "cell_type": "code",
   "execution_count": null,
   "id": "ae89d8df",
   "metadata": {},
   "outputs": [],
   "source": []
  }
 ],
 "metadata": {
  "kernelspec": {
   "display_name": "Python 3 (ipykernel)",
   "language": "python",
   "name": "python3"
  },
  "language_info": {
   "codemirror_mode": {
    "name": "ipython",
    "version": 3
   },
   "file_extension": ".py",
   "mimetype": "text/x-python",
   "name": "python",
   "nbconvert_exporter": "python",
   "pygments_lexer": "ipython3",
   "version": "3.9.12"
  }
 },
 "nbformat": 4,
 "nbformat_minor": 5
}
