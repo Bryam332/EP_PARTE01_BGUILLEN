{
 "cells": [
  {
   "cell_type": "code",
   "execution_count": 1,
   "id": "0924967e",
   "metadata": {},
   "outputs": [
    {
     "name": "stdout",
     "output_type": "stream",
     "text": [
      "Ingrese el tipo de bus (1, 2 o 3): 1\n",
      "Ingrese la distancia en kilómetros: 24\n",
      "Ingrese la cantidad de personas: 15\n",
      "Importe a pagar por persona:  48.0\n",
      "Costo total del viaje:  720.0\n"
     ]
    }
   ],
   "source": [
    "def calcular_costo_viaje(tipo_bus, distancia, num_personas):\n",
    "    if tipo_bus == 1:\n",
    "        costo_por_km = 2\n",
    "        capacidad_maxima = 20\n",
    "    elif tipo_bus == 2:\n",
    "        costo_por_km = 2.5\n",
    "        capacidad_maxima = 25\n",
    "    elif tipo_bus == 3:\n",
    "        costo_por_km = 3\n",
    "        capacidad_maxima = 30\n",
    "    else:\n",
    "        print(\"Tipo de bus inválido\")\n",
    "        return\n",
    "    \n",
    "    if num_personas > capacidad_maxima:\n",
    "        print(\"Cantidad no permitida\")\n",
    "        return\n",
    "    \n",
    "    costo_total = costo_por_km * distancia * num_personas\n",
    "    costo_por_persona = costo_total / num_personas\n",
    "    \n",
    "    print(\"Importe a pagar por persona: \", costo_por_persona)\n",
    "    print(\"Costo total del viaje: \", costo_total)\n",
    "\n",
    "\n",
    "# Ejemplo de uso\n",
    "tipo_bus = int(input(\"Ingrese el tipo de bus (1, 2 o 3): \"))\n",
    "distancia = float(input(\"Ingrese la distancia en kilómetros: \"))\n",
    "num_personas = int(input(\"Ingrese la cantidad de personas: \"))\n",
    "\n",
    "calcular_costo_viaje(tipo_bus, distancia, num_personas)"
   ]
  }
 ],
 "metadata": {
  "kernelspec": {
   "display_name": "Python 3 (ipykernel)",
   "language": "python",
   "name": "python3"
  },
  "language_info": {
   "codemirror_mode": {
    "name": "ipython",
    "version": 3
   },
   "file_extension": ".py",
   "mimetype": "text/x-python",
   "name": "python",
   "nbconvert_exporter": "python",
   "pygments_lexer": "ipython3",
   "version": "3.9.12"
  }
 },
 "nbformat": 4,
 "nbformat_minor": 5
}
